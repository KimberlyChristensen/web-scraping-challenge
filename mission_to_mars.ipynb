{
 "cells": [
  {
   "cell_type": "code",
   "execution_count": 1,
   "metadata": {},
   "outputs": [],
   "source": [
    "from bs4 import BeautifulSoup\n",
    "import pandas as pd\n",
    "from splinter import Browser\n",
    "from webdriver_manager.chrome import ChromeDriverManager\n",
    "import time\n",
    "import pymongo\n",
    "import requests"
   ]
  },
  {
   "cell_type": "markdown",
   "metadata": {},
   "source": [
    "# NASA Mars News"
   ]
  },
  {
   "cell_type": "code",
   "execution_count": 2,
   "metadata": {},
   "outputs": [],
   "source": [
    "nasa_url='https://mars.nasa.gov/news'"
   ]
  },
  {
   "cell_type": "code",
   "execution_count": 3,
   "metadata": {},
   "outputs": [
    {
     "name": "stderr",
     "output_type": "stream",
     "text": [
      "[WDM] - ====== WebDriver manager ======\n",
      "[WDM] - Current google-chrome version is 89.0.4389\n",
      "[WDM] - Get LATEST driver version for 89.0.4389\n"
     ]
    },
    {
     "name": "stdout",
     "output_type": "stream",
     "text": [
      "\n",
      "\n"
     ]
    },
    {
     "name": "stderr",
     "output_type": "stream",
     "text": [
      "[WDM] - Driver [C:\\Users\\kashe\\.wdm\\drivers\\chromedriver\\win32\\89.0.4389.23\\chromedriver.exe] found in cache\n"
     ]
    }
   ],
   "source": [
    "#collect latest News Title and Paragraph Text\n",
    "\n",
    "#Create a driver\n",
    "executable_path={'executable_path': ChromeDriverManager().install()}\n",
    "browser=Browser('chrome', **executable_path, headless=False)\n",
    "\n",
    "browser.visit(nasa_url)\n",
    "time.sleep(1)\n",
    "html=browser.html"
   ]
  },
  {
   "cell_type": "code",
   "execution_count": 4,
   "metadata": {},
   "outputs": [],
   "source": [
    "soup=BeautifulSoup(html, 'html.parser')"
   ]
  },
  {
   "cell_type": "code",
   "execution_count": 5,
   "metadata": {},
   "outputs": [],
   "source": [
    "#use bs4 to parse out the title and paragraph\n",
    "news_t=soup.find('div', class_='bottom_gradient').text\n",
    "news_p=soup.find('div', class_='article_teaser_body').text\n"
   ]
  },
  {
   "cell_type": "markdown",
   "metadata": {},
   "source": [
    "# JPL Mars Space Images - Featured Image"
   ]
  },
  {
   "cell_type": "code",
   "execution_count": 6,
   "metadata": {},
   "outputs": [],
   "source": [
    "#Image addresses\n",
    "\n",
    "#Switching gears and looking for images at path provided by instructions\n",
    "nasa_image_url='https://www.jpl.nasa.gov/spaceimages/?search=&category=Mars'\n",
    "browser.visit(nasa_image_url)\n",
    "\n",
    "html=browser.html\n",
    "#soup=BeautifulSoup(html, 'html.parser')\n",
    "\n",
    "#find the image thumbnail and click on it, then grab the html at the new page to go to next page\n",
    "browser.find_by_css('.BaseImage').click()\n",
    "time.sleep(1)\n",
    "html=browser.html\n",
    "soup=BeautifulSoup(html, 'html.parser')\n",
    "\n",
    "image_tag=soup.find('a', class_='BaseButton text-contrast-none w-full mb-5 -primary -compact inline-block')\n",
    "image_url=image_tag['href']\n"
   ]
  },
  {
   "cell_type": "markdown",
   "metadata": {},
   "source": [
    "# Mars Facts"
   ]
  },
  {
   "cell_type": "code",
   "execution_count": 7,
   "metadata": {},
   "outputs": [],
   "source": [
    "# Use pandas module to get html; scrape the table into a list of df object\n",
    "table_path='https://space-facts.com/mars/'\n",
    "tables = pd.read_html(table_path)\n"
   ]
  },
  {
   "cell_type": "code",
   "execution_count": 8,
   "metadata": {},
   "outputs": [],
   "source": [
    "#Use the pandas method to convert a df to html string\n",
    "#Parse out only specific table data required\n",
    "tables_df=tables[2]\n",
    "table_html=tables_df.to_html()\n"
   ]
  },
  {
   "cell_type": "code",
   "execution_count": 9,
   "metadata": {},
   "outputs": [
    {
     "data": {
      "text/plain": [
       "<pymongo.results.UpdateResult at 0x14b93ed8a80>"
      ]
     },
     "execution_count": 9,
     "metadata": {},
     "output_type": "execute_result"
    }
   ],
   "source": [
    "#mongo connection string \n",
    "mongo_conn=mongo_conn='mongodb://localhost:27017'\n",
    "client=pymongo.MongoClient(mongo_conn)\n",
    "\n",
    "insert_data={'news_t': news_t,\n",
    "            'news_p': news_p,\n",
    "            'image_url': image_url,\n",
    "            'table_html': table_html}\n",
    "\n",
    "client.mars_db.mars.replace_one({},insert_data, upsert=True)"
   ]
  },
  {
   "cell_type": "markdown",
   "metadata": {},
   "source": [
    "# Mars Hemispheres"
   ]
  },
  {
   "cell_type": "code",
   "execution_count": 10,
   "metadata": {},
   "outputs": [],
   "source": [
    "# Obtain full resolution image urls for each of Mars' hemispheres\n",
    "usgs_url='https://astrogeology.usgs.gov/search/results?q=hemisphere+enhanced&k1=target&v1=Mars'\n",
    "browser.visit(usgs_url)\n",
    "\n",
    "#Allow the browser time to load after switching pages\n",
    "time.sleep(1)\n",
    "html=browser.html\n",
    "soup=BeautifulSoup(html, 'html.parser')"
   ]
  },
  {
   "cell_type": "code",
   "execution_count": 11,
   "metadata": {},
   "outputs": [],
   "source": [
    "#Create a list to hold the hemisphere dictionaries\n",
    "hemisphere_image_urls=[]\n",
    "\n",
    "#Look for results in soup\n",
    "results=soup.find_all('div', class_='item')\n",
    "\n",
    "for result in results:\n",
    "    \n",
    "#Save the Hemisphere title\n",
    "    title = result.h3.text\n",
    "#Click on the URL and obtain image url for full-resolution image:\n",
    "    url=result.find('a')['href']\n",
    "    full_url='https://astrogeology.usgs.gov'+url\n",
    "    browser.visit(full_url)\n",
    "    img_url=browser.find_by_text('Sample')['href']\n",
    "# Append the dictionary with the image url string and the hemisphere title to a list. \n",
    "# This list will contain one dictionary for each hemisphere.\n",
    "    hemisphere_image_dict={'Title': title,\n",
    "                         'Image URL': img_url}\n",
    "    hemisphere_image_urls.append(hemisphere_image_dict)\n"
   ]
  },
  {
   "cell_type": "code",
   "execution_count": 12,
   "metadata": {},
   "outputs": [],
   "source": [
    "browser.quit()"
   ]
  }
 ],
 "metadata": {
  "kernelspec": {
   "display_name": "Python 3",
   "language": "python",
   "name": "python3"
  },
  "language_info": {
   "codemirror_mode": {
    "name": "ipython",
    "version": 3
   },
   "file_extension": ".py",
   "mimetype": "text/x-python",
   "name": "python",
   "nbconvert_exporter": "python",
   "pygments_lexer": "ipython3",
   "version": "3.8.5"
  }
 },
 "nbformat": 4,
 "nbformat_minor": 4
}
